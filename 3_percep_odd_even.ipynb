{
 "cells": [
  {
   "cell_type": "code",
   "execution_count": 1,
   "id": "2281d3bf-aee0-4a53-b735-2772e370f904",
   "metadata": {},
   "outputs": [
    {
     "name": "stdout",
     "output_type": "stream",
     "text": [
      "Digit | ASCII Binary     | Predicted (0=Even, 1=Odd)\n",
      "------------------------------------------------------\n",
      "  0    | 0110000 |     0\n",
      "  1    | 0110001 |     1\n",
      "  2    | 0110010 |     0\n",
      "  3    | 0110011 |     1\n",
      "  4    | 0110100 |     0\n",
      "  5    | 0110101 |     1\n",
      "  6    | 0110110 |     0\n",
      "  7    | 0110111 |     1\n",
      "  8    | 0111000 |     0\n",
      "  9    | 0111001 |     1\n"
     ]
    }
   ],
   "source": [
    "import numpy as np\n",
    "\n",
    "class Perceptron:\n",
    "    def __init__(self, input_size, learning_rate=0.1, epochs=20):\n",
    "        self.weights = np.zeros(input_size)\n",
    "        self.bias = 0\n",
    "        self.lr = learning_rate\n",
    "        self.epochs = epochs\n",
    "\n",
    "    def activation(self, x):\n",
    "        return 1 if x >= 0 else 0\n",
    "\n",
    "    def predict(self, x):\n",
    "        z = np.dot(self.weights, x) + self.bias\n",
    "        return self.activation(z)\n",
    "\n",
    "    def train(self, X, y):\n",
    "        for _ in range(self.epochs):\n",
    "            for xi, target in zip(X, y):\n",
    "                prediction = self.predict(xi)\n",
    "                error = target - prediction\n",
    "                self.weights += self.lr * error * xi\n",
    "                self.bias += self.lr * error\n",
    "\n",
    "# Generate dataset: digits 0–9 in ASCII binary (7 bits)\n",
    "def ascii_binary(digit):\n",
    "    return [int(b) for b in format(ord(str(digit)), '07b')]\n",
    "\n",
    "X = np.array([ascii_binary(d) for d in range(10)])  # inputs\n",
    "y = np.array([d % 2 for d in range(10)])            # labels: 0 for even, 1 for odd\n",
    "\n",
    "# Train perceptron\n",
    "model = Perceptron(input_size=7)\n",
    "model.train(X, y)\n",
    "\n",
    "# Test predictions\n",
    "print(\"Digit | ASCII Binary     | Predicted (0=Even, 1=Odd)\")\n",
    "print(\"------------------------------------------------------\")\n",
    "for digit in range(10):\n",
    "    x = ascii_binary(digit)\n",
    "    pred = model.predict(x)\n",
    "    print(f\"  {digit}    | {''.join(map(str, x))} |     {pred}\")\n"
   ]
  },
  {
   "cell_type": "code",
   "execution_count": null,
   "id": "815603a9-aaba-4f7b-9209-facbb6e6828e",
   "metadata": {},
   "outputs": [],
   "source": []
  },
  {
   "cell_type": "code",
   "execution_count": null,
   "id": "19e62a0f-1528-460d-ab9d-ab547299066f",
   "metadata": {},
   "outputs": [],
   "source": []
  }
 ],
 "metadata": {
  "kernelspec": {
   "display_name": "Python 3 (ipykernel)",
   "language": "python",
   "name": "python3"
  },
  "language_info": {
   "codemirror_mode": {
    "name": "ipython",
    "version": 3
   },
   "file_extension": ".py",
   "mimetype": "text/x-python",
   "name": "python",
   "nbconvert_exporter": "python",
   "pygments_lexer": "ipython3",
   "version": "3.12.7"
  }
 },
 "nbformat": 4,
 "nbformat_minor": 5
}
