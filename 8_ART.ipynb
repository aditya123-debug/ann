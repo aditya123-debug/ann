{
 "cells": [
  {
   "cell_type": "code",
   "execution_count": 3,
   "id": "2288642b-7c0f-4ff7-a4f6-94a180426884",
   "metadata": {},
   "outputs": [
    {
     "name": "stdout",
     "output_type": "stream",
     "text": [
      "\n",
      "Pattern Assignments:\n",
      "Pattern [1, 0, 0, 1] -> Cluster 0\n",
      "Pattern [1, 1, 0, 1] -> Cluster 0\n",
      "Pattern [0, 1, 1, 0] -> Cluster 1\n",
      "Pattern [0, 1, 1, 1] -> Cluster 1\n",
      "Pattern [1, 0, 0, 0] -> Cluster 0\n"
     ]
    }
   ],
   "source": [
    "# Simple Adaptive Resonance Theory (ART1) Network\n",
    "\n",
    "# Binary input patterns\n",
    "patterns = [\n",
    "    [1, 0, 0, 1],\n",
    "    [1, 1, 0, 1],\n",
    "    [0, 1, 1, 0],\n",
    "    [0, 1, 1, 1],\n",
    "    [1, 0, 0, 0],\n",
    "    \n",
    "]\n",
    "\n",
    "# Parameters\n",
    "vigilance = 0.6        # Similarity threshold\n",
    "num_neurons = 3        # Number of cluster units\n",
    "input_size = len(patterns[0])\n",
    "weights = [[1]*input_size for _ in range(num_neurons)]  # Initialize weights to 1s\n",
    "assignments = [-1]*len(patterns)  # Store which cluster each pattern goes to\n",
    "\n",
    "# ART1 Training\n",
    "for i, p in enumerate(patterns):\n",
    "    assigned = False\n",
    "    for j in range(num_neurons):\n",
    "        # Compare input and weight (only match 1s)\n",
    "        match = [min(p[k], weights[j][k]) for k in range(input_size)]\n",
    "        match_score = sum(match) / sum(p)\n",
    "\n",
    "        # If match score is high enough, assign to this neuron\n",
    "        if match_score >= vigilance:\n",
    "            weights[j] = match  # Update weight\n",
    "            assignments[i] = j\n",
    "            assigned = True\n",
    "            break\n",
    "\n",
    "    if not assigned:\n",
    "        print(f\"Pattern {p} not assigned (vigilance too high)\")\n",
    "\n",
    "# Show result\n",
    "print(\"\\nPattern Assignments:\")\n",
    "for i, cluster in enumerate(assignments):\n",
    "    print(f\"Pattern {patterns[i]} -> Cluster {cluster}\")\n"
   ]
  },
  {
   "cell_type": "code",
   "execution_count": 4,
   "id": "8dc9f659-862b-4f8f-a179-ff510fa0c16e",
   "metadata": {},
   "outputs": [
    {
     "name": "stdout",
     "output_type": "stream",
     "text": [
      "Pattern [0, 0, 1, 1, 1] was not clustered due to vigilance constraint.\n",
      "Pattern [1, 0, 0, 1, 1] was not clustered due to vigilance constraint.\n",
      "Pattern 1 assigned to Cluster 0\n",
      "Pattern 2 assigned to Cluster 1\n",
      "Pattern 3 assigned to Cluster 2\n",
      "Pattern 4 assigned to Cluster -1\n",
      "Pattern 5 assigned to Cluster -1\n"
     ]
    }
   ],
   "source": [
    "import numpy as np\n",
    "\n",
    "class ART1:\n",
    "    def __init__(self, input_size, num_clusters, vigilance=0.7):\n",
    "        self.input_size = input_size\n",
    "        self.num_clusters = num_clusters\n",
    "        self.vigilance = vigilance\n",
    "        self.weights = np.ones((num_clusters, input_size))  # Initialize weights to 1\n",
    "\n",
    "    def train(self, inputs):\n",
    "        self.clusters = [-1] * len(inputs)\n",
    "        for i, x in enumerate(inputs):\n",
    "            x = np.array(x)\n",
    "            chosen = -1\n",
    "            for j in range(self.num_clusters):\n",
    "                yj = np.minimum(x, self.weights[j])\n",
    "                match_score = np.sum(yj) / np.sum(x)\n",
    "                if match_score >= self.vigilance:\n",
    "                    chosen = j\n",
    "                    self.weights[j] = np.minimum(self.weights[j], x)\n",
    "                    self.clusters[i] = j\n",
    "                    break\n",
    "            if chosen == -1:\n",
    "                print(f\"Pattern {x.tolist()} was not clustered due to vigilance constraint.\")\n",
    "\n",
    "    def print_clusters(self):\n",
    "        for i, cluster in enumerate(self.clusters):\n",
    "            print(f\"Pattern {i + 1} assigned to Cluster {cluster}\")\n",
    "\n",
    "# Sample binary patterns (each with 5 bits)\n",
    "patterns = [\n",
    "    [1, 0, 0, 1, 0],\n",
    "    [1, 1, 0, 1, 0],\n",
    "    [0, 0, 1, 0, 1],\n",
    "    [0, 0, 1, 1, 1],\n",
    "    [1, 0, 0, 1, 1]\n",
    "]\n",
    "\n",
    "# Create ART1 model and train\n",
    "model = ART1(input_size=5, num_clusters=3, vigilance=0.7)\n",
    "model.train(patterns)\n",
    "model.print_clusters()\n"
   ]
  },
  {
   "cell_type": "code",
   "execution_count": null,
   "id": "1c8b8e28-fbfa-4ed9-9c6a-0c0d3bf38b8f",
   "metadata": {},
   "outputs": [],
   "source": []
  }
 ],
 "metadata": {
  "kernelspec": {
   "display_name": "Python 3 (ipykernel)",
   "language": "python",
   "name": "python3"
  },
  "language_info": {
   "codemirror_mode": {
    "name": "ipython",
    "version": 3
   },
   "file_extension": ".py",
   "mimetype": "text/x-python",
   "name": "python",
   "nbconvert_exporter": "python",
   "pygments_lexer": "ipython3",
   "version": "3.11.0"
  },
  "widgets": {
   "application/vnd.jupyter.widget-state+json": {
    "state": {},
    "version_major": 2,
    "version_minor": 0
   }
  }
 },
 "nbformat": 4,
 "nbformat_minor": 5
}
