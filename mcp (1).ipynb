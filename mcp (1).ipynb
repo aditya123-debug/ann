{
 "cells": [
  {
   "cell_type": "code",
   "execution_count": 2,
   "id": "1a7d7a30-04d3-420c-b461-d5d33bf3f2c3",
   "metadata": {},
   "outputs": [
    {
     "name": "stdout",
     "output_type": "stream",
     "text": [
      "Truth Table for AND NOT (Standard)\n",
      "X1 X2 | Output\n",
      "--------------\n",
      " 0  0 |   0\n",
      " 0  1 |   0\n",
      " 1  0 |   1\n",
      " 1  1 |   0\n"
     ]
    }
   ],
   "source": [
    "class McPittsModel:\n",
    "    def __init__(self, weights, threshold):\n",
    "        self.weights = weights\n",
    "        self.threshold = threshold\n",
    "\n",
    "    def activation(self, x1, x2):\n",
    "        net_input = self.weights[0] * x1 + self.weights[1] * x2\n",
    "        return 1 if net_input >= self.threshold else 0\n",
    "\n",
    "def AND_NOT_Standard():\n",
    "    weights = [1, -1]\n",
    "    threshold = 1\n",
    "    neuron = McPittsModel(weights, threshold)\n",
    "\n",
    "    print(\"Truth Table for AND NOT (Standard)\")\n",
    "    print(\"X1 X2 | Output\")\n",
    "    print(\"--------------\")\n",
    "    for x1 in [0, 1]:\n",
    "        for x2 in [0, 1]:\n",
    "            output = neuron.activation(x1, x2)\n",
    "            print(f\" {x1}  {x2} |   {output}\")\n",
    "\n",
    "AND_NOT_Standard()\n"
   ]
  },
  {
   "cell_type": "code",
   "execution_count": null,
   "id": "ad24df8b-bb30-40f2-be68-f3e43398115b",
   "metadata": {},
   "outputs": [],
   "source": []
  }
 ],
 "metadata": {
  "kernelspec": {
   "display_name": "Python 3 (ipykernel)",
   "language": "python",
   "name": "python3"
  },
  "language_info": {
   "codemirror_mode": {
    "name": "ipython",
    "version": 3
   },
   "file_extension": ".py",
   "mimetype": "text/x-python",
   "name": "python",
   "nbconvert_exporter": "python",
   "pygments_lexer": "ipython3",
   "version": "3.12.7"
  }
 },
 "nbformat": 4,
 "nbformat_minor": 5
}
