{
 "cells": [
  {
   "cell_type": "code",
   "execution_count": 2,
   "id": "6728d435-e50e-448b-a18b-c0b06c21867d",
   "metadata": {},
   "outputs": [
    {
     "name": "stdin",
     "output_type": "stream",
     "text": [
      "Enter weight of x1:  1\n",
      "Enter weight of x2 (use negative for NOT):  -1\n"
     ]
    },
    {
     "name": "stdout",
     "output_type": "stream",
     "text": [
      "\n",
      "Truth Table for AND NOT\n",
      "| X1 | X2 | Output |\n",
      "--------------------\n",
      "| 0  | 0  |   0   |\n",
      "| 0  | 1  |   0   |\n",
      "| 1  | 0  |   1   |\n",
      "| 1  | 1  |   0   |\n"
     ]
    }
   ],
   "source": [
    "import matplotlib.pyplot as plt\n",
    "\n",
    "class McPitts_Model:\n",
    "    def __init__(self, weights, threshold):\n",
    "        self.weights = weights\n",
    "        self.threshold = threshold\n",
    "\n",
    "    def activation(self, inputs):\n",
    "        net_input = sum(w * x for w, x in zip(self.weights, inputs))\n",
    "        return 1 if net_input >= self.threshold else 0  # Fixed '>='\n",
    "\n",
    "def ANDNOT(x1, x2, weights, threshold=1):\n",
    "    andnot_neuron = McPitts_Model(weights, threshold)\n",
    "    return andnot_neuron.activation([x1, x2])\n",
    "\n",
    "# Get weights from user (allow negative values)\n",
    "try:\n",
    "    w_x1 = int(input(\"Enter weight of x1: \"))  # Typically 1\n",
    "    w_x2 = int(input(\"Enter weight of x2 (use negative for NOT): \"))  # Typically -1\n",
    "except ValueError as e:\n",
    "    print(f\"Invalid Input: {e}\")\n",
    "    exit()\n",
    "\n",
    "weights = [w_x1, w_x2]\n",
    "\n",
    "# Generate truth table\n",
    "inputs = [(0, 0), (0, 1), (1, 0), (1, 1)]\n",
    "outputs = [ANDNOT(x1, x2, weights) for x1, x2 in inputs]\n",
    "\n",
    "# Print Truth Table\n",
    "print(\"\\nTruth Table for AND NOT\")\n",
    "print(\"| X1 | X2 | Output |\")\n",
    "print(\"--------------------\")\n",
    "for (x1, x2), result in zip(inputs, outputs):\n",
    "    print(f\"| {x1}  | {x2}  |   {result}   |\")\n"
   ]
  },
  {
   "cell_type": "code",
   "execution_count": 6,
   "id": "9931fcb0-9aee-42f1-939c-ab854c49056f",
   "metadata": {},
   "outputs": [
    {
     "name": "stdout",
     "output_type": "stream",
     "text": [
      "Truth Table for AND NOT:\n",
      "X1 X2 | Output\n",
      "--------------\n",
      " 0  0 | 0\n",
      " 0  1 | 0\n",
      " 1  0 | 1\n",
      " 1  1 | 0\n"
     ]
    }
   ],
   "source": [
    "class McPittsModel:\n",
    "    def __init__(self, weights, threshold):\n",
    "        self.weights = weights\n",
    "        self.threshold = threshold\n",
    "\n",
    "    def activation(self, x1, x2):\n",
    "        # Compute net input\n",
    "        net_input = self.weights[0] * x1 + self.weights[1] * x2\n",
    "        # Apply threshold\n",
    "        if net_input >= self.threshold:\n",
    "            return 1\n",
    "        else:\n",
    "            return 0\n",
    "\n",
    "# AND-NOT: x1 AND NOT x2\n",
    "def AND_NOT(x1, x2):\n",
    "    weights = [1, -1]       # x1 has positive weight, x2 has negative (NOT)\n",
    "    threshold = 1\n",
    "    neuron = McPittsModel(weights, threshold)\n",
    "    return neuron.activation(x1, x2)\n",
    "\n",
    "# Print Truth Table\n",
    "print(\"Truth Table for AND NOT:\")\n",
    "print(\"X1 X2 | Output\")\n",
    "print(\"--------------\")\n",
    "print(\" 0  0 |\", AND_NOT(0, 0))\n",
    "print(\" 0  1 |\", AND_NOT(0, 1))\n",
    "print(\" 1  0 |\", AND_NOT(1, 0))\n",
    "print(\" 1  1 |\", AND_NOT(1, 1))\n",
    "\n",
    "\n"
   ]
  },
  {
   "cell_type": "code",
   "execution_count": 7,
   "id": "cab1b4f0-f57e-422f-80b1-1c16940a1fe7",
   "metadata": {},
   "outputs": [
    {
     "name": "stdout",
     "output_type": "stream",
     "text": [
      "Truth Table for AND NOT:\n",
      "X1 X2 | Output\n",
      "--------------\n",
      " 0  0 | 0\n",
      " 0  1 | 0\n",
      " 1  0 | 1\n",
      " 1  1 | 0\n"
     ]
    }
   ],
   "source": [
    "class McPitts:\n",
    "    def __init__(self,weights,threshold):\n",
    "        self.weights=weights\n",
    "        self.threshold=threshold\n",
    "\n",
    "    def activation(self,x1,x2):\n",
    "        net_input=self.weights[0]*x1+self.weights[1]*x2\n",
    "        if net_input>= self.threshold:\n",
    "            return 1\n",
    "        else:\n",
    "            return 0\n",
    "\n",
    "def AND_NOT(x1,x2):\n",
    "    weight=[1,-2]\n",
    "    threshold=0.5\n",
    "    neuron=McPitts(weight,threshold)\n",
    "    return neuron.activation(x1,x2)\n",
    "\n",
    "print(\"Truth Table for AND NOT:\")\n",
    "print(\"X1 X2 | Output\")\n",
    "print(\"--------------\")\n",
    "print(\" 0  0 |\", AND_NOT(0, 0))\n",
    "print(\" 0  1 |\", AND_NOT(0, 1))\n",
    "print(\" 1  0 |\", AND_NOT(1, 0))\n",
    "print(\" 1  1 |\", AND_NOT(1, 1))"
   ]
  },
  {
   "cell_type": "code",
   "execution_count": null,
   "id": "6cc26bd4-195e-466a-b815-11cef208236d",
   "metadata": {},
   "outputs": [],
   "source": []
  }
 ],
 "metadata": {
  "kernelspec": {
   "display_name": "Python 3 (ipykernel)",
   "language": "python",
   "name": "python3"
  },
  "language_info": {
   "codemirror_mode": {
    "name": "ipython",
    "version": 3
   },
   "file_extension": ".py",
   "mimetype": "text/x-python",
   "name": "python",
   "nbconvert_exporter": "python",
   "pygments_lexer": "ipython3",
   "version": "3.11.0"
  },
  "widgets": {
   "application/vnd.jupyter.widget-state+json": {
    "state": {},
    "version_major": 2,
    "version_minor": 0
   }
  }
 },
 "nbformat": 4,
 "nbformat_minor": 5
}
