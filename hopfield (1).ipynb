{
 "cells": [
  {
   "cell_type": "code",
   "execution_count": 1,
   "id": "adaa0a73-c32e-40fb-a8e9-818936785323",
   "metadata": {},
   "outputs": [
    {
     "name": "stdout",
     "output_type": "stream",
     "text": [
      "Original pattern:  [-1 -1 -1 -1]\n",
      "Predicted pattern :  [-1. -1. -1. -1.]\n",
      "Original pattern:  [-1 -1 -1 -1]\n",
      "Predicted pattern :  [-1. -1. -1. -1.]\n",
      "Original pattern:  [-1 -1 -1 -1]\n",
      "Predicted pattern :  [-1. -1. -1. -1.]\n",
      "Original pattern:  [-1 -1 -1 -1]\n",
      "Predicted pattern :  [-1. -1. -1. -1.]\n"
     ]
    }
   ],
   "source": [
    "import numpy as np\n",
    "\n",
    "class HopfieldNetwork:\n",
    "  def __init__ (self,n_neurons):\n",
    "    self.n_neurons = n_neurons\n",
    "    self.weights = np.zeros((n_neurons,n_neurons))\n",
    "\n",
    "  def train (self, patterns):\n",
    "    for pattern in patterns:\n",
    "      self.weights += np.outer(pattern, pattern) / self.n_neurons\n",
    "      np.fill_diagonal(self.weights, 0)\n",
    "\n",
    "  def predict(self, pattern):\n",
    "    energy = -0.5 * np.dot(pattern, np.dot(self.weights, pattern))\n",
    "    return np.sign(np.dot(pattern, self.weights) + energy)\n",
    "\n",
    "if __name__ == '__main__':\n",
    "    patterns = np.array([\n",
    "        [-1, -1, -1, -1],\n",
    "        [-1, -1, -1, -1],\n",
    "        [-1, -1, -1, -1],\n",
    "        [-1, -1, -1, -1]\n",
    "    ])\n",
    "\n",
    "    n_neurons = patterns.shape[1]\n",
    "    network = HopfieldNetwork(n_neurons)\n",
    "    network.train(patterns)\n",
    "\n",
    "    for pattern in patterns:\n",
    "        predicted_pattern = network.predict(pattern)\n",
    "        print(\"Original pattern: \", pattern)\n",
    "        print(\"Predicted pattern : \",predicted_pattern)\n",
    "\n"
   ]
  },
  {
   "cell_type": "code",
   "execution_count": null,
   "id": "11dbc017-96b2-4c49-81e9-5feb9ccfd6c4",
   "metadata": {},
   "outputs": [],
   "source": []
  }
 ],
 "metadata": {
  "kernelspec": {
   "display_name": "Python 3 (ipykernel)",
   "language": "python",
   "name": "python3"
  },
  "language_info": {
   "codemirror_mode": {
    "name": "ipython",
    "version": 3
   },
   "file_extension": ".py",
   "mimetype": "text/x-python",
   "name": "python",
   "nbconvert_exporter": "python",
   "pygments_lexer": "ipython3",
   "version": "3.12.7"
  }
 },
 "nbformat": 4,
 "nbformat_minor": 5
}
